{
 "cells": [
  {
   "cell_type": "markdown",
   "metadata": {},
   "source": [
    "# Lista de Exercícios 04\n",
    "\n",
    "Métodos Numéricos para Engenharia - Turma D  \n",
    "Nome: Vitor Bertulucci Borges <br> \n",
    "Matrícula: 14/0171126"
   ]
  },
  {
   "cell_type": "markdown",
   "metadata": {},
   "source": [
    "Observações:\n",
    "\n",
    "0. A lista de exercícios deve ser respondida neste único arquivo (.ipynb). Responda a cada questão na célula imediatamente abaixo do seu enunciado.\n",
    "0. A entrega desta lista de exercícios deve ser realizada no moodle da disciplina.\n",
    "0. Não se esqueça de alterar o nome do arquivo e o cabeçalho acima, colocando seu nome e matrícula.\n",
    "0. A lista de exercícios é uma atividade individual e com consulta. Não será aceito qualquer tipo de plágio.\n",
    "0. A seção _Entrada_, presente em cada questão, apenas delimita o formato e limites dos valores de entrada. Tais valores **não** precisam ser validados, ou seja, se é dito que $2 \\leq N \\leq 10$, seu exercício nunca será testado com valores de $N$ fora do intervalo $[2,10]$."
   ]
  },
  {
   "cell_type": "code",
   "execution_count": 40,
   "metadata": {
    "collapsed": true
   },
   "outputs": [],
   "source": [
    "# Deixe-me incluir o módulo numpy para você. Você vai precisar utilizá-lo.\n",
    "import numpy as np"
   ]
  },
  {
   "cell_type": "markdown",
   "metadata": {},
   "source": [
    "---\n",
    "\n",
    "## Questão 01\n",
    "\n",
    "O Método da Eliminação de Gauss é um método analítico de resolução de sistemas lineares.\n",
    "\n",
    "Dado o sistema linear $Ax = b$, onde:\n",
    "\n",
    "$$\n",
    "A =\n",
    "\\begin{bmatrix}\n",
    "3 & 3 & -1 \\\\\n",
    "2 & 6 & 2 \\\\\n",
    "8 & 4 & 1\n",
    "\\end{bmatrix}, b =\n",
    "\\begin{bmatrix}\n",
    "6 \\\\\n",
    "20 \\\\\n",
    "19\n",
    "\\end{bmatrix}\n",
    "$$\n",
    "\n",
    "Encontre a matriz aumentada e calcule a matriz triangular superior utilizando o Método da Eliminação de Gauss. Não utilize funções prontas para realizar o cálculo.\n",
    "\n",
    "### Entrada\n",
    "\n",
    "Este exercício não contém entradas.\n",
    "\n",
    "### Saída\n",
    "\n",
    "A matriz aumentada, conforme a saída de teste.\n",
    "\n",
    "#### Entrada de Teste\n",
    "\n",
    "#### Saída de Teste\n",
    "3.0000  3.0000 -1.0000  6.0000  \n",
    "0.0000  4.0000  2.6667  16.0000  \n",
    "0.0000  0.0000  6.3333  19.0000"
   ]
  },
  {
   "cell_type": "code",
   "execution_count": 41,
   "metadata": {
    "collapsed": true
   },
   "outputs": [],
   "source": [
    "def gauss(A, b):\n",
    "    G = np.append(A, b, 1).astype(float)\n",
    "    n = len(G[:, 0])\n",
    "    \n",
    "    for i in range(n - 1):\n",
    "        if G[i,i] == 0: # evitar divisão por zeros\n",
    "            return -1\n",
    "        for j in range(i + 1, n):\n",
    "            G[j] -= G[i] * G[j,i]/G[i,i]\n",
    "            \n",
    "    return G"
   ]
  },
  {
   "cell_type": "code",
   "execution_count": 42,
   "metadata": {},
   "outputs": [
    {
     "name": "stdout",
     "output_type": "stream",
     "text": [
      "[[  3.           3.          -1.           6.        ]\n",
      " [  0.           4.           2.66666667  16.        ]\n",
      " [  0.           0.           6.33333333  19.        ]]\n"
     ]
    }
   ],
   "source": [
    "A = np.array([[3, 3, -1],\n",
    "     [2, 6, 2],\n",
    "     [8, 4, 1]])\n",
    "b = np.array([[6, 20, 19]]).T\n",
    "print(gauss(A, b))"
   ]
  },
  {
   "cell_type": "markdown",
   "metadata": {
    "collapsed": true
   },
   "source": [
    "---\n",
    "\n",
    "## Questão 02\n",
    "\n",
    "O Método de Gauss-Jordan é um método analítico utilizado para encontrar a solução de sistemas lineares, mas também pode ser utilizado para para encontrar a inversa de matrizes quadradas não-singulares.\n",
    "\n",
    "Dado o sistema linear $Ax = b$, onde:\n",
    "\n",
    "$$\n",
    "A =\n",
    "\\begin{bmatrix}\n",
    "3 & 3 & -1 \\\\\n",
    "2 & 6 & 2 \\\\\n",
    "8 & 4 & 1\n",
    "\\end{bmatrix}, b =\n",
    "\\begin{bmatrix}\n",
    "6 \\\\\n",
    "20 \\\\\n",
    "19\n",
    "\\end{bmatrix}\n",
    "$$\n",
    "\n",
    "Utilize o Método de Gauss-Jordan para encontrar o vetor solução do sistema linear acima. Não utilize funções prontas para realizar o cálculo.\n",
    "\n",
    "### Entrada\n",
    "\n",
    "Este exercício não contém entradas.\n",
    "\n",
    "### Saída\n",
    "\n",
    "O vetor solução **x** é dado por três elementos $\\{x_1, x_2, x_3\\}$. Na saída devem ser impressos os três elementos do vetor solução, cada elemento deve ser impresso com 6 casas decimais de precisão e os elementos devem ser separados por uma quebra de linha.\n",
    "\n",
    "#### Entrada de Teste\n",
    "\n",
    "#### Saída de Teste\n",
    "\n",
    "1.0  \n",
    "2.0  \n",
    "3.0"
   ]
  },
  {
   "cell_type": "code",
   "execution_count": 43,
   "metadata": {
    "collapsed": true
   },
   "outputs": [],
   "source": [
    "def gauss_jordan(GJ):\n",
    "    \n",
    "    n = len(GJ[:, 0])\n",
    "    \n",
    "    for i in range(n - 1, -1, -1):\n",
    "        GJ[i] /=  GJ[i, i]\n",
    "        for j in range(i):\n",
    "            GJ[j] -= GJ[i] * GJ[j, i]\n",
    "    \n",
    "    \n",
    "    return GJ"
   ]
  },
  {
   "cell_type": "code",
   "execution_count": 47,
   "metadata": {},
   "outputs": [
    {
     "name": "stdout",
     "output_type": "stream",
     "text": [
      "[ 1.  2.  3.]\n"
     ]
    }
   ],
   "source": [
    "A = np.array([[3, 3, -1],\n",
    "     [2, 6, 2],\n",
    "     [8, 4, 1]])\n",
    "b = np.array([[6, 20, 19]]).T\n",
    "\n",
    "G = gauss(A, b)\n",
    "print(gauss_jordan(G)[:, 3])"
   ]
  },
  {
   "cell_type": "markdown",
   "metadata": {},
   "source": [
    "---\n",
    "\n",
    "## Questão 03\n",
    "\n",
    "Como mencionado no exercício anterior, o método de Gauss-Jordan também pode ser utilizado para encontrar a inversa de matrizes quadradas não-singulares.\n",
    "\n",
    "Dado um inteiro positivo $N$, e todos os elementos de uma matriz quadrada $A$ de ordem $N$, calcule $A^{-1}$ utilizando o método de Gauss-Jordan. Não utilize funções prontas para realizar o cálculo.\n",
    "\n",
    "### Entrada\n",
    "\n",
    "A primeira linha de entrada contém um inteiro positivo $N$. As próximas $N$ linhas contém $N$ inteiros cada, representando cada um dos elementos da matriz $A$.\n",
    "\n",
    "### Saída\n",
    "\n",
    "Na saída devem ser impressas $N$ linhas com $N$ valores cada, representando cada um dos elementos da matriz inversa, conforme o caso de teste abaixo.\n",
    "\n",
    "#### Entrada de Teste\n",
    "3  \n",
    "3.0 3.0 -1.0  \n",
    "2.0 6.0 2.0  \n",
    "8.0 4.0 1.0\n",
    "\n",
    "#### Saída de Teste\n",
    "-0.0263 -0.0921  0.1579  \n",
    " 0.1842  0.1447 -0.1053  \n",
    "-0.5263  0.1579  0.1579"
   ]
  },
  {
   "cell_type": "code",
   "execution_count": 49,
   "metadata": {},
   "outputs": [
    {
     "name": "stdout",
     "output_type": "stream",
     "text": [
      "[[-0.02631579 -0.09210526  0.15789474]\n",
      " [ 0.18421053  0.14473684 -0.10526316]\n",
      " [-0.52631579  0.15789474  0.15789474]]\n"
     ]
    }
   ],
   "source": [
    "def inverse(A):\n",
    "    n = len(A[0])\n",
    "    I = np.zeros((n, n))\n",
    "    for x in range(n):\n",
    "        for i in range(n):\n",
    "            I[i,i] = 1\n",
    "    return gauss_jordan(gauss(A, I))\n",
    "\n",
    "A = np.array([[3, 3, -1],\n",
    "     [2, 6, 2],\n",
    "     [8, 4, 1]])\n",
    "\n",
    "print(inverse(A)[:, 3:6]) # printar todas as linhas apenas das colunas de indice 3 a 6"
   ]
  },
  {
   "cell_type": "markdown",
   "metadata": {},
   "source": [
    "---\n",
    "\n",
    "## Questão 04\n",
    "\n",
    "O Método de Jacobi é um método utilizado para encontrar a solução de sistemas lineares de forma numérica, ou seja, por aproximações sucessivas. O método funiona da seguinte forma: dado um sistema linear $Ax = b$ e uma aproximação inicial para os valores de $x$, a próxima aproximação para os valores de $x$ são calculadas através da equação:\n",
    "\n",
    "$$\n",
    "x^{(novo)}_i = \\frac{b_i \\sum_{j \\neq i}{a_{ij}x_j^{(antigo)}}}{a_{ii}}\n",
    "$$\n",
    "\n",
    "Dado um sistema linear, utilize o Método de Jacobi para encontrar as 10 (dez) primeiras aproximações para os elementos do vetor de incógnitas ($x$). Assuma que todos os elementos de $x$ são iguais a $1$ na aproximação inicial. Não utilize funções prontas para realizar o cálculo.\n",
    "\n",
    "### Entrada\n",
    "\n",
    "A primeira linha da entrada consiste de um valor inteiro $N$ ($2 \\leq N \\leq 10$), indicando a ordem do sistema linear. A segunda linha consiste de $N$ valores de ponto flutuante, indicando cada um dos termos independentes do sistema linear. As próximas $N$ linhas consistem de $N$ valores de ponto flutuante cada, representando cada um dos elementos da matriz de coeficientes.\n",
    "\n",
    "### Saída\n",
    "\n",
    "A saída deve conter 10 linhas, a linha $i$ ($1 \\leq i \\leq N$) deve conter $N$ valores de ponto flutuante com 6 casas decimais de precisão, representando cada um dos elementos da i-ésima aproximação do vetor $x$.\n",
    "\n",
    "#### Entrada de Teste\n",
    "\n",
    "2  \n",
    "8.0 10.0  \n",
    "2.0 2.0  \n",
    "1.0 4.0\n",
    "\n",
    "#### Saída de Teste\n",
    "\n",
    "1.000000  1.000000  \n",
    "3.000000  2.250000  \n",
    "1.750000  1.750000  \n",
    "2.250000  2.062500  \n",
    "1.937500  1.937500  \n",
    "2.062500  2.015625  \n",
    "1.984375  1.984375  \n",
    "2.015625  2.003906  \n",
    "1.996094  1.996094  \n",
    "2.003906  2.000977"
   ]
  },
  {
   "cell_type": "code",
   "execution_count": 52,
   "metadata": {
    "collapsed": true
   },
   "outputs": [],
   "source": [
    "import numpy as np\n",
    "\n",
    "def jacobi(matrix, n, iterations):\n",
    "    diagonal = np.diag(matrix)\n",
    "    diagMatrix = np.diag(diagonal)\n",
    "    diagMatrixInverse = np.diag(1/diagonal)\n",
    "    \n",
    "    matrixResto =  matrix - diagMatrix\n",
    "    \n",
    "    u = n\n",
    "    for i in range(iterations):\n",
    "        u = np.dot(diagMatrixInverse, n - np.dot(matrixResto, u))\n",
    "        \n",
    "    return u\n",
    "\n",
    "## diversos erros, não consegui finalizar a implementação"
   ]
  },
  {
   "cell_type": "markdown",
   "metadata": {},
   "source": [
    "---\n",
    "\n",
    "## Questão 05\n",
    "\n",
    "Métodos numéricos de integração são geralmente utilizados quando se deseja computar integrais definidas de funções muito complicadas para que tal cálculo seja realizado de forma analítica.\n",
    "\n",
    "O Método do Ponto Médio é um método de integração numérica que aproxima a área sob a curva por uma soma de retângulos com largura definida e não infinitesimal, diferente da Soma de Riemann.\n",
    "\n",
    "Seja $f(x)$ a função:\n",
    "\n",
    "$$ f(x) = xcos(x)^2 $$\n",
    "\n",
    "Dados os limites $a$ e $b$ e o tamanho da largura dos retângulos $h$, calcule $\\int_a^b{f(x)dx}$ utilizando o Método do Ponto Médio.\n",
    "\n",
    "### Entrada\n",
    "\n",
    "A entrada consiste de uma única linha contendo três valores de ponto flutuante: $a$, $b$ e $h$, respectivamente.\n",
    "\n",
    "### Saída\n",
    "\n",
    "A saída deve conter um único valor de ponto flutuante com 4 casas decimais de precisão, representando o valor da integral encontrada.\n",
    "\n",
    "#### Entrada de Teste\n",
    "0.0 10.0 1.0\n",
    "\n",
    "#### Saída de Teste\n",
    "27.6559"
   ]
  },
  {
   "cell_type": "code",
   "execution_count": 53,
   "metadata": {},
   "outputs": [
    {
     "name": "stdout",
     "output_type": "stream",
     "text": [
      "0\n",
      "10\n",
      "1\n",
      "27.6559\n"
     ]
    }
   ],
   "source": [
    "def f(x):\n",
    "    return x*np.cos(x)**2\n",
    "\n",
    "a = float(input()) # maneira que encontrei para leitura de float, nao sei se é a melhor forma\n",
    "b = float(input())\n",
    "h = float(input())\n",
    "\n",
    "n = int((b - a)/h) # número de blocos\n",
    "result = 0\n",
    "for i in range(n):\n",
    "    result += f(h/2 + a + i*h)\n",
    "\n",
    "print('%.4f' % result)"
   ]
  },
  {
   "cell_type": "markdown",
   "metadata": {},
   "source": [
    "---\n",
    "\n",
    "## Questão 06\n",
    "\n",
    "O Método dos Trapézios é um método de integração numérica que aproxima a área sob a curva por uma soma de trapézios.\n",
    "\n",
    "Seja $f(x)$ a função:\n",
    "\n",
    "$$ f(x) = xsin(x) + x $$\n",
    "\n",
    "Dados os limites $a$ e $b$ e o tamanho da divisão $h$, calcule $\\int_a^b{f(x)dx}$ utilizando o Método dos Trapézios.\n",
    "\n",
    "### Entrada\n",
    "\n",
    "A entrada consiste de uma única linha contendo três valores de ponto flutuante: $a$, $b$ e $h$, respectivamente.\n",
    "\n",
    "### Saída\n",
    "\n",
    "A saída deve conter um único valor de ponto flutuante com 4 casas decimais de precisão, representando o valor da integral encontrada.\n",
    "\n",
    "#### Entrada de Teste\n",
    "0.0 10.0 1.0\n",
    "\n",
    "#### Saída de Teste\n",
    "57.0878"
   ]
  },
  {
   "cell_type": "code",
   "execution_count": 54,
   "metadata": {},
   "outputs": [
    {
     "name": "stdout",
     "output_type": "stream",
     "text": [
      "0\n",
      "10\n",
      "1\n",
      "57.0878\n"
     ]
    }
   ],
   "source": [
    "import numpy as np\n",
    "\n",
    "def f(x):\n",
    "    return x * np.sin(x) + x\n",
    "\n",
    "a = float(input())\n",
    "b = float(input())\n",
    "h = float(input())\n",
    "\n",
    "n = int((b - a)/h)\n",
    "result = 0\n",
    "for i in range(n):\n",
    "    result += (h/2)*(f(a + i * h) + f(a + i*h + h))\n",
    "\n",
    "print('%.4f' % result)"
   ]
  },
  {
   "cell_type": "markdown",
   "metadata": {},
   "source": [
    "---\n",
    "\n",
    "## Questão 07\n",
    "\n",
    "A Regra de Simpson é uma regra de integração numérica que divide a função em pequenos intervalos e aproxima a função em cada intervalo por uma parábola escolhendo 3 pontos de referência no início, meio e fim do intervalo.\n",
    "\n",
    "Na regra de Simpson, a integral sobre cada segmento é aproximada pela seguinte fórmula\n",
    "\n",
    "$$S_i = \\frac{h}{6} \\left[f(x_i) + 4 f(x_i + h/2) + f(x_i + h)\\right]$$\n",
    "\n",
    "Seja $f(x)$ a função:\n",
    "\n",
    "$$ f(x) = \\sin{x}\\sqrt{x} $$\n",
    "\n",
    "Dados os limites $a$ e $b$ e o tamanho da divisão $h$, calcule $\\int_a^b{f(x)dx}$ utilizando a Regra de Simpson.\n",
    "\n",
    "### Entrada\n",
    "\n",
    "A entrada consiste de uma única linha contendo três valores de ponto flutuante: $a$, $b$ e $h$, respectivamente.\n",
    "\n",
    "### Saída\n",
    "\n",
    "A saída deve conter um único valor de ponto flutuante com 4 casas decimais de precisão, representando o valor da integral encontrada.\n",
    "\n",
    "#### Entrada de Teste\n",
    "0.0 10.0 1.0\n",
    "\n",
    "#### Saída de Teste\n",
    "3.2048"
   ]
  },
  {
   "cell_type": "code",
   "execution_count": 55,
   "metadata": {},
   "outputs": [
    {
     "name": "stdout",
     "output_type": "stream",
     "text": [
      "0\n",
      "10\n",
      "1\n",
      "3.2048\n"
     ]
    }
   ],
   "source": [
    "import numpy as np\n",
    "\n",
    "def f(x):\n",
    "    return np.sin(x) * np.sqrt(x)\n",
    "\n",
    "a = float(input())\n",
    "b = float(input())\n",
    "h = float(input())\n",
    "\n",
    "n = int((b - a)/h)\n",
    "result = 0\n",
    "for i in range(n):\n",
    "    result += (h/6)*(f(a + i * h) + 4*f(a + i*h + h/2) + f(a + i*h + h))\n",
    "\n",
    "print('%.4f' % result)"
   ]
  },
  {
   "cell_type": "markdown",
   "metadata": {},
   "source": [
    "---\n",
    "\n",
    "## Questão 08\n",
    "\n",
    "A Regra da Quadratura Gaussiana é uma regra de integração numérica que divide o intervalo de intergração em um conjunto de pequenos intervalos e aproxima a função em cada um desses intervalos por aproximações polinomiais, escolhendo sempre os pontos no intervalo de integração que fornecerão a melhor aproximação possível.\n",
    "\n",
    "Seja $f(x)$ a função:\n",
    "\n",
    "$$ f(x) = ln(x + 1)sin(x) $$\n",
    "\n",
    "Dados os limites $a$ e $b$ e o tamanho da divisão $h$, calcule $\\int_a^b{f(x)dx}$ utilizando a Regra da Quadratura Gaussiana com **n = 3**.\n",
    "\n",
    "### Entrada\n",
    "\n",
    "A entrada consiste de uma única linha contendo três valores de ponto flutuante: $a$, $b$ e $h$, respectivamente.\n",
    "\n",
    "### Saída\n",
    "\n",
    "A saída deve conter um único valor de ponto flutuante com 4 casas decimais de precisão, representando o valor da integral encontrada.\n",
    "\n",
    "#### Entrada de Teste\n",
    "0.0 10.0 1.0\n",
    "\n",
    "#### Saída de Teste\n",
    "2.3133"
   ]
  },
  {
   "cell_type": "code",
   "execution_count": 56,
   "metadata": {},
   "outputs": [
    {
     "name": "stdout",
     "output_type": "stream",
     "text": [
      "0\n",
      "10\n",
      "1\n",
      "2.3133\n"
     ]
    }
   ],
   "source": [
    "import numpy as np\n",
    "\n",
    "def f(x):\n",
    "    return np.log(x+1) * np.sin(x) # log = ln e log10 = log na base 10\n",
    "\n",
    "a = float(input())\n",
    "b = float(input())\n",
    "h = float(input())\n",
    "X = np.arange(a, b, h)\n",
    "\n",
    "w0 = 8/9\n",
    "w1 = 5/9\n",
    "u0 = 0\n",
    "u1 = np.sqrt(3/5)\n",
    "quadraturaGaussiana = np.sum(h/2 * (w0 * f(X + h/2*(1 + u0)) + \n",
    "                                    w1 * f(X + h/2*(1 + u1)) + \n",
    "                                    w1 * f(X + h/2*(1 - u1))))\n",
    "\n",
    "print('%.4f' % quadraturaGaussiana)"
   ]
  }
 ],
 "metadata": {
  "kernelspec": {
   "display_name": "Python 3",
   "language": "python",
   "name": "python3"
  },
  "language_info": {
   "codemirror_mode": {
    "name": "ipython",
    "version": 3
   },
   "file_extension": ".py",
   "mimetype": "text/x-python",
   "name": "python",
   "nbconvert_exporter": "python",
   "pygments_lexer": "ipython3",
   "version": "3.5.2"
  }
 },
 "nbformat": 4,
 "nbformat_minor": 2
}
