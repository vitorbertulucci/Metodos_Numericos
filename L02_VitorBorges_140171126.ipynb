{
 "cells": [
  {
   "cell_type": "markdown",
   "metadata": {
    "deletable": true,
    "editable": true
   },
   "source": [
    "# Lista de Exercícios 02\n",
    "\n",
    "Métodos Numéricos para Engenharia - Turma D  \n",
    "Nome: Vitor Bertulucci Borges \n",
    "\n",
    "Matrícula: 14/0171126"
   ]
  },
  {
   "cell_type": "markdown",
   "metadata": {
    "deletable": true,
    "editable": true
   },
   "source": [
    "---\n",
    "\n",
    "## Questão 01\n",
    "\n",
    "O Método da Bisseção é utilizado para encontrar a raíz de uma função dentro de um intervalo definido, de forma iterativa. A cada iteração o método encontra uma nova aproximação para o local da raíz da função dada.\n",
    "\n",
    "Dado um intervalo inicial $[A, B]$, utilize o Método da Bisseção para encontrar as $10$ primeiras aproximações para a raíz da função:\n",
    "\n",
    "$$ f(x) = \\frac{x^4 - 10x^3 - x^2 + 5x}{x^4 + 1} $$\n",
    "\n",
    "### Entrada\n",
    "\n",
    "A entrada consiste de dois valores reais $-10^4 \\leq A < B \\leq 10^4$ que indicam os limites inferior e superior do intervalo, respectivamente.\n",
    "\n",
    "### Saída\n",
    "\n",
    "Na saída devem ser impressos 10 valores reais com 6 casas de precisão. Após cada valor deve ser impressa uma quebra de linha. Caso a raíz seja encontrada, esta deve ser a última linha impressa, também com 6 casas decimais de precisão. Por fim, caso o intervalo inicial não seja válido, a mensagem \"_Intervalo invalido_\" deve ser impressa.\n",
    "\n",
    "#### Entrada de Teste\n",
    "$\\texttt{8.00}$  \n",
    "$\\texttt{12.00}$\n",
    "\n",
    "#### Saída de Teste\n",
    "$\\texttt{10.000000}$  \n",
    "$\\texttt{11.000000}$  \n",
    "$\\texttt{10.500000}$  \n",
    "$\\texttt{10.250000}$  \n",
    "$\\texttt{10.125000}$  \n",
    "$\\texttt{10.062500}$  \n",
    "$\\texttt{10.031250}$  \n",
    "$\\texttt{10.046875}$  \n",
    "$\\texttt{10.054688}$  \n",
    "$\\texttt{10.050781}$"
   ]
  },
  {
   "cell_type": "code",
   "execution_count": 5,
   "metadata": {
    "collapsed": false,
    "deletable": true,
    "editable": true
   },
   "outputs": [
    {
     "name": "stdout",
     "output_type": "stream",
     "text": [
      "10.000000\n",
      "11.000000\n",
      "10.500000\n",
      "10.250000\n",
      "10.125000\n",
      "10.062500\n",
      "10.031250\n",
      "10.046875\n",
      "10.054688\n",
      "10.050781\n"
     ]
    }
   ],
   "source": [
    "def f(x):\n",
    "    return ((x**4) - (10 * (x**3)) - (x**2) + (5 * x))/((x**4) - 1)\n",
    "\n",
    "A = 8\n",
    "B = 12\n",
    "\n",
    "for i in range(10):\n",
    "    xi = (A + B)/2.0\n",
    "    \n",
    "    print('%.6lf' % xi)\n",
    "    \n",
    "    if f(A)*f(xi) < 0:\n",
    "        B = xi\n",
    "    else:\n",
    "        A = xi"
   ]
  },
  {
   "cell_type": "markdown",
   "metadata": {
    "deletable": true,
    "editable": true
   },
   "source": [
    "---\n",
    "\n",
    "## Questão 02\n",
    "\n",
    "Em zeros de funções, o Método da Newton é um método iterativo utilizado para encontrar a raíz de uma função, dado um ponto inicial. A cada iteração o método encontra uma nova aproximação para o local da raíz da função desejada.\n",
    "\n",
    "Dado um ponto inicial $x_0$, utilize o Método de Newton para encontrar as 10 primeiras aproximações para a raíz da função:\n",
    "\n",
    "$$ f(x) = x^4 - 10x^3 + 8x $$\n",
    "\n",
    "### Entrada\n",
    "\n",
    "A entrada consiste de um valor real $-10^4 \\leq x_0 \\leq 10^4$ que indica o ponto inicial.\n",
    "\n",
    "### Saída\n",
    "\n",
    "Na saída devem ser impressos 10 valores reais com 6 casas de precisão, cada valor representa uma aproximação para a raíz da função $f(x)$ dada. Após cada valor deve ser impressa uma quebra de linha.\n",
    "\n",
    "#### Entrada de Teste\n",
    "$\\texttt{8.00}$  \n",
    "\n",
    "#### Saída de Teste\n",
    "$\\texttt{15.058824}$  \n",
    "$\\texttt{12.524640}$  \n",
    "$\\texttt{10.923665}$  \n",
    "$\\texttt{10.137268}$  \n",
    "$\\texttt{9.932064}$  \n",
    "$\\texttt{9.918737}$  \n",
    "$\\texttt{9.918683}$  \n",
    "$\\texttt{9.918683}$  \n",
    "$\\texttt{9.918683}$"
   ]
  },
  {
   "cell_type": "code",
   "execution_count": 4,
   "metadata": {
    "collapsed": false,
    "deletable": true,
    "editable": true
   },
   "outputs": [
    {
     "name": "stdout",
     "output_type": "stream",
     "text": [
      "15.058824\n",
      "12.524640\n",
      "10.923665\n",
      "10.137268\n",
      "9.932064\n",
      "9.918737\n",
      "9.918683\n",
      "9.918683\n",
      "9.918683\n",
      "9.918683\n"
     ]
    }
   ],
   "source": [
    "def f(x):\n",
    "    return ((x**4) - (10 * (x**3)) + 8 * x)\n",
    "\n",
    "def f_linha(x):\n",
    "    return ((4 * (x**3)) - (10 * 3 * (x**2)) + 8)\n",
    "\n",
    "x_anterior = 8\n",
    "x0 = 8\n",
    "for i in range(10):\n",
    "    xi = x_anterior - f(x_anterior)/f_linha(x_anterior)\n",
    "    print('%.6lf' % xi)\n",
    "    \n",
    "    x_anterior = xi"
   ]
  },
  {
   "cell_type": "markdown",
   "metadata": {
    "deletable": true,
    "editable": true
   },
   "source": [
    "---\n",
    "\n",
    "## Questão 03\n",
    "\n",
    "O Método da Posição Falsa é um método iterativo utilizado para encontrar a raíz de uma função, dado um intervalo inicial. A cada iteração o método encontra uma nova aproximação para o local da raíz da função desejada.\n",
    "\n",
    "Dado um intervalo inicial $[A,B]$, utilize o Método da Posição Falsa para encontrar as 10 primeiras aproximações para a raíz da função:\n",
    "\n",
    "$$ f(x) = \\frac{x^2 + 3x - 3}{x^2 + 1} $$\n",
    "\n",
    "### Entrada\n",
    "\n",
    "A entrada consiste de dois valores reais $-10^4 \\leq A < B \\leq 10^4$ que indicam os limites inferior e superior do intervalo inicial, respectivamente.\n",
    "\n",
    "### Saída\n",
    "\n",
    "Na saída devem ser impressos 10 valores reais com 6 casas de precisão. Após cada valor deve ser impressa uma quebra de linha. Caso a raíz seja encontrada, esta deve ser a última linha impressa, também com 6 casas decimais de precisão. Caso o intervalo inicial não seja válido, a mensagem \"_Intervalo invalido_\" deve ser impressa.\n",
    "\n",
    "#### Entrada de Teste\n",
    "$\\texttt{-1.00}$  \n",
    "$\\texttt{10.00}$\n",
    "\n",
    "#### Saída de Teste\n",
    "$\\texttt{6.318841}$  \n",
    "$\\texttt{3.733514}$  \n",
    "$\\texttt{1.971825}$  \n",
    "$\\texttt{0.908998}$  \n",
    "$\\texttt{0.702668}$  \n",
    "$\\texttt{0.799252}$  \n",
    "$\\texttt{0.791794}$  \n",
    "$\\texttt{0.791320}$  \n",
    "$\\texttt{0.791290}$  \n",
    "$\\texttt{0.791288}$"
   ]
  },
  {
   "cell_type": "code",
   "execution_count": 3,
   "metadata": {
    "collapsed": false,
    "deletable": true,
    "editable": true
   },
   "outputs": [
    {
     "name": "stdout",
     "output_type": "stream",
     "text": [
      "6.318841\n",
      "3.733514\n",
      "1.971825\n",
      "0.908998\n",
      "0.702668\n",
      "0.799252\n",
      "0.791794\n",
      "0.791320\n",
      "0.791290\n",
      "0.791288\n"
     ]
    }
   ],
   "source": [
    "def f(x):\n",
    "    return ((x**2) + (3 * x) - 3)/((x**2) + 1)\n",
    "\n",
    "\n",
    "A = -1\n",
    "B = 10\n",
    "\n",
    "for i in range(10):\n",
    "    xi = (A * f(B) - B * f(A))/( f(B) - f(A))\n",
    "    \n",
    "    print('%.6lf' % xi)\n",
    "    \n",
    "    if f(A) * f(xi) < 0:\n",
    "        B = xi\n",
    "    else:\n",
    "        A = xi"
   ]
  },
  {
   "cell_type": "markdown",
   "metadata": {
    "collapsed": true,
    "deletable": true,
    "editable": true
   },
   "source": [
    "---\n",
    "\n",
    "## Questão 04\n",
    "\n",
    "O Método da Secante é um método iterativo utilizado para encontrar a raíz de uma função, dados dois pontos iniciais. A cada iteração o método encontra uma nova aproximação para o local da raíz ($x_i$) da função desejada.\n",
    "\n",
    "Dados dois pontos iniciais $x_0$ e $x_1$, utilize o Método da Secante para encontrar as aproximações $x_2, x_3, ..., x_9$ para a raíz da função:\n",
    "\n",
    "$$ f(x) = x^4 - 10x^3 + 8x $$\n",
    "\n",
    "### Entrada\n",
    "\n",
    "A entrada consiste de dois valores reais $-10^4 \\leq x_0, x_1 \\leq 10^4$ que indicam os pontos iniciais.\n",
    "\n",
    "### Saída\n",
    "\n",
    "Na saída devem ser impressas dez linhas, cada uma com a seguinte mensagem \"$f(x_i) = y_i$\", com $0 \\leq i \\leq 9$. Onde $x_i$ é a i-ésima aproximação para o local da raíz e $y_i$ é o valor da função $f(x)$ no ponto $x_i$. Ambos os valores $x_i$ e $y_i$ devem ser impressos com 6 casas de precisão.\n",
    "\n",
    "#### Entrada de Teste\n",
    "$\\texttt{-5.00}$  \n",
    "$\\texttt{5.00}$\n",
    "\n",
    "#### Saída de Teste\n",
    "$\\texttt{f(-5.000000) = 1835.000000}$  \n",
    "$\\texttt{f(5.000000) = -585.000000}$  \n",
    "$\\texttt{f(2.582645) = -107.113005}$  \n",
    "$\\texttt{f(2.040822) = -51.325848}$  \n",
    "$\\texttt{f(1.542328) = -18.691334}$  \n",
    "$\\texttt{f(1.256817) = -7.302917}$  \n",
    "$\\texttt{f(1.073731) = -2.460008}$  \n",
    "$\\texttt{f(0.980731) = -0.662019}$  \n",
    "$\\texttt{f(0.946488) = -0.104578}$  \n",
    "$\\texttt{f(0.940064) = -0.006059}$"
   ]
  },
  {
   "cell_type": "code",
   "execution_count": 12,
   "metadata": {
    "collapsed": false,
    "deletable": true,
    "editable": true
   },
   "outputs": [
    {
     "name": "stdout",
     "output_type": "stream",
     "text": [
      "f(-5.000000) = 1835.000000\n",
      "f(5.000000) = -585.000000\n",
      "f(2.582645) = -107.113005\n",
      "f(2.040822) = -51.325848\n",
      "f(1.542328) = -18.691334\n",
      "f(1.256817) = -7.302917\n",
      "f(1.073731) = -2.460008\n",
      "f(0.980731) = -0.662019\n",
      "f(0.946488) = -0.104578\n",
      "f(0.940064) = -0.006059\n"
     ]
    }
   ],
   "source": [
    "def f(x):\n",
    "    return (x**4) - (10 * (x**3)) + (8 * x)\n",
    "\n",
    "def f_linha(x):\n",
    "    return (4 * (x**3) - 30 * (x**2) + 8)\n",
    "\n",
    "x0 = -5\n",
    "x1 = 5\n",
    "g0 = f(x0)\n",
    "g1 = f(x1)\n",
    "print('f(%.6lf) = %.6lf' % (x0, f(x0)))\n",
    "print('f(%.6lf) = %.6lf' % (x1, f(x1)))\n",
    "\n",
    "for i in range(8):\n",
    "    xi = (x0 * f(x1) - x1 * f(x0)) / (f(x1) - f(x0))\n",
    "    print('f(%.6lf) = %.6lf' % (xi, f(xi)))\n",
    "    x0 = x1\n",
    "    x1 = xi\n",
    "#     x0, x1 = x1, (x0 * g1 - x1 * g0) / (g1 - g0)\n",
    "#     g0, g1 = g1, f(x1)\n",
    "    "
   ]
  },
  {
   "cell_type": "markdown",
   "metadata": {
    "deletable": true,
    "editable": true
   },
   "source": [
    "---\n",
    "\n",
    "## Questão 05\n",
    "\n",
    "O Método da Busca Ternária é um método para encontrar pontos críticos de uma função dentro de um intervalo definido, de forma iterativa. A cada iteração o método encontra uma nova aproximação para o local do ponto crítico da função.\n",
    "\n",
    "Dado um intervalo inicial $[A, B]$, utilize o Método da Busca Ternária para encontrar as 10 primeiras aproximações para o ponto de mínimo da função:\n",
    "\n",
    "$$ f(x) = x(x - 1)(x + 1)(x - 2) $$\n",
    "\n",
    "### Entrada\n",
    "\n",
    "A entrada consiste de dois valores reais $-10^4 \\leq A < B \\leq 10^4$ que indicam os limites inferior e superior do intervalo, respectivamente.\n",
    "\n",
    "### Saída\n",
    "\n",
    "Na saída devem ser impressos 10 valores reais com 6 casas de precisão. Após cada valor deve ser impressa uma quebra de linha.\n",
    "\n",
    "#### Entrada de Teste\n",
    "$\\texttt{0.00}$  \n",
    "$\\texttt{10.00}$\n",
    "\n",
    "#### Saída de Teste\n",
    "$\\texttt{3.333333}$  \n",
    "$\\texttt{2.222222}$  \n",
    "$\\texttt{1.481481}$  \n",
    "$\\texttt{0.987654}$  \n",
    "$\\texttt{1.646091}$  \n",
    "$\\texttt{1.426612}$  \n",
    "$\\texttt{1.280293}$  \n",
    "$\\texttt{1.475385}$  \n",
    "$\\texttt{1.605446}$  \n",
    "$\\texttt{1.562092}$"
   ]
  },
  {
   "cell_type": "code",
   "execution_count": 8,
   "metadata": {
    "collapsed": false,
    "deletable": true,
    "editable": true
   },
   "outputs": [
    {
     "name": "stdout",
     "output_type": "stream",
     "text": [
      "3.333333\n",
      "2.222222\n",
      "1.481481\n",
      "0.987654\n",
      "1.316872\n",
      "1.097394\n",
      "1.243713\n",
      "1.146167\n",
      "1.211197\n",
      "1.254551\n"
     ]
    }
   ],
   "source": [
    "def f(x):\n",
    "    return (x)*(x+1)*(x-2)\n",
    "\n",
    "A = 0.0\n",
    "B = 10.0\n",
    "\n",
    "for i in range(10):\n",
    "    xi1 = A + (B - A)/3\n",
    "    xi2 = A + 2*(B-A)/3\n",
    "    \n",
    "    if f(xi1) < f(xi2):\n",
    "        print('%.6lf' % xi1)\n",
    "        B = xi2\n",
    "    else:\n",
    "        \n",
    "        print('%.6lf' % xi2)\n",
    "        A = xi1\n",
    "    "
   ]
  },
  {
   "cell_type": "markdown",
   "metadata": {
    "deletable": true,
    "editable": true
   },
   "source": [
    "---\n",
    "\n",
    "## Questão 06\n",
    "\n",
    "O Método da Busca pela Razão Áurea é um método para encontrar pontos críticos de uma função dentro de um intervalo definido, de forma iterativa. A cada iteração o método encontra uma nova aproximação para o local do ponto crítico (máximo ou mínimo) da função.\n",
    "\n",
    "Dado um polinômio de quarta ordem e um intervalo inicial $[A, B]$, utilize o Método da Busca pela Razão Áurea para encontrar as 10 primeiras aproximações para o ponto de mínimo do polinômio dado.\n",
    "\n",
    "### Entrada\n",
    "\n",
    "A entrada é composta por duas linhas. A primeira linha contêm cinco valores reais $-10^4 \\leq a,b,c,d,e \\leq 10^4$ que indicam os coeficientes do polinômio de quarta ordem abaixo.\n",
    "\n",
    "$$ p(x) = ax^4 + bx^3 + cx^2 + dx + e $$\n",
    "\n",
    "A segunda linha consiste de dois valores reais $-10^4 \\leq A,B \\leq 10^4$ que indicam os limites inferior e superior do intervalo, respectivamente.\n",
    "\n",
    "### Saída\n",
    "\n",
    "Na saída devem ser impressos 10 valores reais com 6 casas de precisão. Após cada valor deve ser impressa uma quebra de linha.\n",
    "\n",
    "#### Entrada de Teste\n",
    "$\\texttt{1.00 0.00 -1.00 0.00 1.00}$  \n",
    "$\\texttt{0.00}$  \n",
    "$\\texttt{10.00}$\n",
    "\n",
    "#### Saída de Teste\n",
    "$\\texttt{3.819660}$  \n",
    "$\\texttt{2.360680}$  \n",
    "$\\texttt{1.458980}$  \n",
    "$\\texttt{0.901699}$  \n",
    "$\\texttt{0.557281}$  \n",
    "$\\texttt{0.344419}$  \n",
    "$\\texttt{0.557281}$  \n",
    "$\\texttt{0.688837}$  \n",
    "$\\texttt{0.638587}$  \n",
    "$\\texttt{0.688837}$"
   ]
  },
  {
   "cell_type": "code",
   "execution_count": 15,
   "metadata": {
    "collapsed": false,
    "deletable": true,
    "editable": true
   },
   "outputs": [
    {
     "name": "stdout",
     "output_type": "stream",
     "text": [
      "3.819660\n",
      "2.360680\n",
      "1.458980\n",
      "0.901699\n",
      "0.557281\n",
      "0.344419\n",
      "0.557281\n",
      "0.688837\n",
      "0.638587\n",
      "0.688837\n"
     ]
    }
   ],
   "source": [
    "import numpy as np\n",
    "\n",
    "def f(x,a,b,c,d):\n",
    "    return (a*(x**4)) + (b*(x**3)) + c*(x**2) + np.e\n",
    "\n",
    "phi = (1 + 5 ** .5) / 2\n",
    "\n",
    "a,b,c,d = 1.0,0.0,-1.0,1.0\n",
    "A = 0.0\n",
    "B = 10.0\n",
    "\n",
    "for i in range(10):\n",
    "    xi1 = B - (B - A)/phi\n",
    "    xi2 = A + (B - A)/phi\n",
    "    \n",
    "    xi = min(xi1, xi2)\n",
    "    print('%.6lf' % xi)\n",
    "    if f(xi1,a,b,c,d) < f(xi2,a,b,c,d):\n",
    "        B = xi2\n",
    "    else:\n",
    "        A = xi1"
   ]
  },
  {
   "cell_type": "markdown",
   "metadata": {
    "deletable": true,
    "editable": true
   },
   "source": [
    "## Questão 07\n",
    "\n",
    "O Método da Descida de Gradiente é um método iterativo utilizado para encontrar o ponto crítico de uma função, dado um ponto inicial. A cada iteração o método encontra uma nova aproximação para o local do ponto crítico da função desejada. Esta nova aproximação pode ser encontrada utilizando duas abordagens: passo contante e passo variável.\n",
    "\n",
    "Dado um ponto inicial $x_0$, utilize o Método da Descida de Gradiente com Passo Constante para encontrar as 10 primeiras aproximações para o ponto crítico da função:\n",
    "\n",
    "$$ f(x) = -xe^{-x} $$\n",
    "\n",
    "### Entrada\n",
    "\n",
    "A entrada consiste de dois números reais. O primeiro valor é $-10^4 \\leq x_0 \\leq 10^4$ que indica o ponto inicial. O segundo valor é $0 < k \\leq 10$ que indica o passo constante $k$ do método.\n",
    "\n",
    "### Saída\n",
    "\n",
    "Na saída devem ser impressas dez linhas com a seguinte mensagem \"$i\\texttt{: }f(x_i)\\texttt{ = }y_i$\", onde $i$ é o número da iteração, $x_i$ é o local da aproximação atual para o ponto crítico da função e $y_i$ é o valor de $f(x)$ no ponto $x_i$.\n",
    "\n",
    "#### Entrada de Teste\n",
    "$\\texttt{7.50}$  \n",
    "$\\texttt{1.00}$\n",
    "\n",
    "#### Saída de Teste\n",
    "$\\texttt{0: f(7.500000) = -0.004148}$  \n",
    "$\\texttt{1: f(6.500000) = -0.009772}$  \n",
    "$\\texttt{2: f(5.500000) = -0.022477}$  \n",
    "$\\texttt{3: f(4.500000) = -0.049990}$  \n",
    "$\\texttt{4: f(3.500000) = -0.105691}$  \n",
    "$\\texttt{5: f(2.500000) = -0.205212}$  \n",
    "$\\texttt{6: f(1.500000) = -0.334695}$  \n",
    "$\\texttt{7: f(0.500000) = -0.303265}$  \n",
    "$\\texttt{8: f(1.500000) = -0.334695}$  \n",
    "$\\texttt{9: f(0.500000) = -0.303265}$"
   ]
  },
  {
   "cell_type": "code",
   "execution_count": 11,
   "metadata": {
    "collapsed": false,
    "deletable": true,
    "editable": true
   },
   "outputs": [
    {
     "name": "stdout",
     "output_type": "stream",
     "text": [
      "0: f(7.500000) = -0.004148\n",
      "1: f(6.500000) = -0.009772\n",
      "2: f(5.500000) = -0.022477\n",
      "3: f(4.500000) = -0.049990\n",
      "4: f(3.500000) = -0.105691\n",
      "5: f(2.500000) = -0.205212\n",
      "6: f(1.500000) = -0.334695\n",
      "7: f(0.500000) = -0.303265\n",
      "8: f(1.500000) = -0.334695\n",
      "9: f(0.500000) = -0.303265\n"
     ]
    }
   ],
   "source": [
    "import numpy as np\n",
    "\n",
    "def f(x):\n",
    "    return -x*(np.e**(-x))\n",
    "\n",
    "def f_linha(x):\n",
    "    return (x - 1)*(np.e**(-x))\n",
    "\n",
    "xi = 7.5\n",
    "x_anterior = xi\n",
    "K = 1.0\n",
    "count = 0\n",
    "for i in range(10):\n",
    "    print('%d: f(%.6lf) = %.6lf' % (count, x_anterior, f(xi)))\n",
    "    \n",
    "    if f_linha(x_anterior) < 0:\n",
    "        xi = x_anterior + K\n",
    "    else:\n",
    "        xi = x_anterior - K\n",
    "        \n",
    "    x_anterior = xi\n",
    "    count = count + 1"
   ]
  },
  {
   "cell_type": "markdown",
   "metadata": {
    "deletable": true,
    "editable": true
   },
   "source": [
    "## Questão 08\n",
    "\n",
    "O Método da Newton é um método iterativo utilizado para encontrar o ponto crítico de uma função, dado um ponto inicial. A cada iteração o método encontra uma nova aproximação para o local do ponto crítico da função desejada.\n",
    "\n",
    "Dado um ponto inicial $x_0$, utilize o Método de Newton para encontrar as 10 primeiras aproximações para o ponto crítico da função:\n",
    "\n",
    "$$ f(x) = x^4 - 10x^3 + 8x $$\n",
    "\n",
    "### Entrada\n",
    "\n",
    "A entrada consiste de um valor real $-10^4 \\leq x_0 \\leq 10^4$ que indica o ponto inicial.\n",
    "\n",
    "### Saída\n",
    "\n",
    "Na saída devem ser impressas dez linhas com a seguinte mensagem \"$i\\texttt{: }f(x_i)\\texttt{ = }y_i$\", onde $i$ é o número da iteração, $x_i$ é o local da aproximação atual para o ponto crítico da função e $y_i$ é o valor de $f(x)$ no ponto $x_i$.\n",
    "\n",
    "#### Entrada de Teste\n",
    "$\\texttt{8.00}$\n",
    "\n",
    "#### Saída de Teste\n",
    "$\\texttt{0: f(8.000000) = -960.000000}$  \n",
    "$\\texttt{1: f(7.527778) = -994.378043}$  \n",
    "$\\texttt{2: f(7.465168) = -994.830507}$  \n",
    "$\\texttt{3: f(7.464102) = -994.830633}$  \n",
    "$\\texttt{4: f(7.464102) = -994.830633}$  \n",
    "$\\texttt{5: f(7.464102) = -994.830633}$  \n",
    "$\\texttt{6: f(7.464102) = -994.830633}$  \n",
    "$\\texttt{7: f(7.464102) = -994.830633}$  \n",
    "$\\texttt{8: f(7.464102) = -994.830633}$  \n",
    "$\\texttt{9: f(7.464102) = -994.830633}$"
   ]
  },
  {
   "cell_type": "code",
   "execution_count": 9,
   "metadata": {
    "collapsed": false,
    "deletable": true,
    "editable": true
   },
   "outputs": [
    {
     "name": "stdout",
     "output_type": "stream",
     "text": [
      "0: f(8.000000) = -960.000000\n",
      "1: f(7.527778) = -994.378043\n",
      "2: f(7.465168) = -994.830507\n",
      "3: f(7.464102) = -994.830633\n",
      "4: f(7.464102) = -994.830633\n",
      "5: f(7.464102) = -994.830633\n",
      "6: f(7.464102) = -994.830633\n",
      "7: f(7.464102) = -994.830633\n",
      "8: f(7.464102) = -994.830633\n",
      "9: f(7.464102) = -994.830633\n"
     ]
    }
   ],
   "source": [
    "def f(x):\n",
    "    return ((x**4) - (10*(x**3)) + (8*x))\n",
    "\n",
    "def f_linha(x):\n",
    "    return (4*(x**3) - (30*(x**2)) + 8)\n",
    "\n",
    "def f__linha(x):\n",
    "    return 12*(x**2) - 60*x\n",
    "\n",
    "\n",
    "x = 8\n",
    "xi = 8\n",
    "count = 0\n",
    "for i in range(10):\n",
    "    print('%d: f(%.6lf) = %.6lf' % (count, x, f(xi)))\n",
    "    xi = x - f_linha(x)/f__linha(x)\n",
    "    x = xi\n",
    "    count = count + 1"
   ]
  }
 ],
 "metadata": {
  "kernelspec": {
   "display_name": "Python 3",
   "language": "python",
   "name": "python3"
  },
  "language_info": {
   "codemirror_mode": {
    "name": "ipython",
    "version": 3
   },
   "file_extension": ".py",
   "mimetype": "text/x-python",
   "name": "python",
   "nbconvert_exporter": "python",
   "pygments_lexer": "ipython3",
   "version": "3.6.0"
  }
 },
 "nbformat": 4,
 "nbformat_minor": 2
}
