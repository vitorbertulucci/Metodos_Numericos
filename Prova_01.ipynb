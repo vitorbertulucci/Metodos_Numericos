{
 "cells": [
  {
   "cell_type": "code",
   "execution_count": 48,
   "metadata": {
    "collapsed": false,
    "deletable": true,
    "editable": true,
    "scrolled": true
   },
   "outputs": [
    {
     "name": "stdout",
     "output_type": "stream",
     "text": [
      "xi = 3.000000, x0 = 0.000000, f(3.000000) = 7.085537\n",
      "xi = 2.496964, x1 = 3.000000, f(2.496964) = 1.910732\n",
      "xi = 2.229789, x2 = 2.496964, f(2.229789) = 0.325947\n",
      "xi = 2.162422, x3 = 2.229789, f(2.162422) = 0.016094\n",
      "xi = 2.158737, x4 = 2.162422, f(2.158737) = 0.000045\n",
      "xi = 2.158726, x5 = 2.158737, f(2.158726) = 0.000000\n"
     ]
    }
   ],
   "source": [
    "import numpy as np\n",
    "def f(x):\n",
    "    return np.e**x - x**2 - 4\n",
    "\n",
    "def f_(x):\n",
    "    return np.e**x - 2*x\n",
    "\n",
    "x0 = 0\n",
    "x_anterior = 0\n",
    "count = 0\n",
    "for i in range(6):\n",
    "    xi = x_anterior - f(x_anterior)/f_(x_anterior)\n",
    "    print('xi = %.6lf, x%d = %.6lf, f(%.6lf) = %.6lf' % (xi, count, x_anterior, xi, f(xi)))\n",
    "    x_anterior = xi\n",
    "    count+=1\n",
    "    "
   ]
  },
  {
   "cell_type": "code",
   "execution_count": 45,
   "metadata": {
    "collapsed": false,
    "deletable": true,
    "editable": true
   },
   "outputs": [
    {
     "name": "stdout",
     "output_type": "stream",
     "text": [
      "[[  0   0   0   0   1]\n",
      " [  1   1   1   1   1]\n",
      " [ 16   8   4   2   1]\n",
      " [ 81  27   9   3   1]\n",
      " [256  64  16   4   1]]\n",
      "[ 0.01708333  0.1625     -1.48708333  2.2375      0.03      ]\n"
     ]
    }
   ],
   "source": [
    "import numpy as np\n",
    "\n",
    "def vandermode_pol(x, y):\n",
    "    X = np.vander(x, x.shape[0])\n",
    "    print(X)\n",
    "    return np.linalg.solve(X,y)\n",
    "\n",
    "def newton(x, y):\n",
    "    pxi = 0\n",
    "    degree = x.shape[0]\n",
    "    for i, coef in enumerate(x):\n",
    "        pxi += coef * y ** (degree -1)\n",
    "    return pxi\n",
    "\n",
    "\n",
    "t = np.array([0,1,2,3,4])\n",
    "f_t = np.array([0.03, 0.96, 0.13, -0.87, -0.04])\n",
    "print(vandermode_pol(t, f_t))"
   ]
  },
  {
   "cell_type": "code",
   "execution_count": 65,
   "metadata": {
    "collapsed": false,
    "deletable": true,
    "editable": true
   },
   "outputs": [
    {
     "name": "stdout",
     "output_type": "stream",
     "text": [
      "[ 0  1  2  3  4  5  6  7  8  9 10]\n",
      "[ 5.    4.96  4.78  4.53  4.19  3.72  3.18  2.55  1.77  1.01  0.  ]\n",
      "[[385  55]\n",
      " [ 55  11]]\n",
      "[ 123.65   35.69]\n",
      "[-0.4981818181818185, 5.7354545454545471]\n"
     ]
    }
   ],
   "source": [
    "import numpy as np\n",
    "\n",
    "def line(x,y):\n",
    "    left = np.array([[np.sum(x*x), np.sum(x)], [np.sum(x), x.shape[0]]])\n",
    "    print(left)\n",
    "    right = np.array([np.sum(x*y), np.sum(y)])\n",
    "    print(right)\n",
    "    [a, b] = np.linalg.solve(left, right)\n",
    "    return [a,b]\n",
    "\n",
    "# def mmq(x, y):\n",
    "    \n",
    "\n",
    "t = np.array([0,1,2,3,4,5,6,7,8,9,10])\n",
    "h_t = np.array([5.0,4.96,4.78,4.53,4.19,3.72,3.18,2.55,1.77,1.01,0.0])\n",
    "print(t)\n",
    "print(h_t)\n",
    "result = line(t, h_t)\n",
    "print(result)\n"
   ]
  }
 ],
 "metadata": {
  "kernelspec": {
   "display_name": "Python 3",
   "language": "python",
   "name": "python3"
  },
  "language_info": {
   "codemirror_mode": {
    "name": "ipython",
    "version": 3
   },
   "file_extension": ".py",
   "mimetype": "text/x-python",
   "name": "python",
   "nbconvert_exporter": "python",
   "pygments_lexer": "ipython3",
   "version": "3.6.0"
  }
 },
 "nbformat": 4,
 "nbformat_minor": 2
}
