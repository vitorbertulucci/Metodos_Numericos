{
 "cells": [
  {
   "cell_type": "markdown",
   "metadata": {
    "deletable": true,
    "editable": true
   },
   "source": [
    "# Lista de Exercícios 03\n",
    "\n",
    "Métodos Numéricos para Engenharia - Turma D  \n",
    "Nome: Vitor Bertulucci Borges  \n",
    "Matrícula: 14/0171126"
   ]
  },
  {
   "cell_type": "markdown",
   "metadata": {
    "deletable": true,
    "editable": true
   },
   "source": [
    "---\n",
    "\n",
    "## Questão 01\n",
    "\n",
    "O Método da Interpolação Constante é o método mais simples de interpolação. Neste método, o valor estimado da função $f(x)$ para um valor de $x$ arbitrário é exatamente o valor de $f(x)$ no ponto conhecido mais próximo.\n",
    "\n",
    "Conseguimos a seguinte tabela de uma certa função $f$:\n",
    "\n",
    "|    $x_i$   | $0$ |  $1$ | $2$ | $3$ | $4$ |\n",
    "|:----------:|:---:|:----:|:---:|:---:|:---:|\n",
    "| $f$($x_i$) | $1$ | $-3$ | $7$ | $2$ | $0$ |\n",
    "\n",
    "Encontre o valor da função $f$ para um valor de $x$ arbitrário utilizando o Método da Interpolação Constante.\n",
    "\n",
    "### Entrada\n",
    "\n",
    "Um valor de ponto flutuante $0 \\leq X \\leq 4$.\n",
    "\n",
    "### Saída\n",
    "\n",
    "Um valor de ponto flutuante $y$ com seis casas decimais de precisão indicando o valor de $f(X)$ encontrado.\n",
    "\n",
    "#### Entrada de Teste\n",
    "1.6\n",
    "\n",
    "#### Saída de Teste\n",
    "7.000000"
   ]
  },
  {
   "cell_type": "code",
   "execution_count": 1,
   "metadata": {
    "collapsed": false,
    "deletable": true,
    "editable": true
   },
   "outputs": [
    {
     "name": "stdout",
     "output_type": "stream",
     "text": [
      "1\n"
     ]
    }
   ],
   "source": [
    "\n",
    "x = input()\n"
   ]
  },
  {
   "cell_type": "markdown",
   "metadata": {
    "collapsed": true,
    "deletable": true,
    "editable": true
   },
   "source": [
    "---\n",
    "\n",
    "## Questão 02\n",
    "\n",
    "O Método da Interpolação Linear consiste em ligas pontos conhecidos consecutivos por um segmento de reta. Neste caso, o interpolante é dado por um conjunto de segmentos de reta.\n",
    "\n",
    "Dados os seguinte pontos conhecidos de uma função $y = f(x)$:\n",
    "\n",
    "| $x$ | $0$ | $1$ | $2$ | $3$ | $4$ | $5$ |\n",
    "|:---:|:---:|:---:|:---:|:---:|:---:|:---:|\n",
    "| $y$ | $0$ | $1.5$ | $1.1754$ | $-0.0468$ | $0.8825$ | $3.3291$ |\n",
    "\n",
    "Encontre o valor da função $f$ para um valor de $x$ arbitrário utilizando o Método da Interpolação Linear.\n",
    "\n",
    "### Entrada\n",
    "\n",
    "Um valor de ponto flutuante $0 \\leq X \\leq 5$.\n",
    "\n",
    "### Saída\n",
    "\n",
    "Um valor de ponto flutuante $y$ com seis casas decimais de precisão indicando o valor de $f(X)$ encontrado.\n",
    "\n",
    "#### Entrada de Teste\n",
    "0.5\n",
    "\n",
    "#### Saída de Teste\n",
    "0.750000"
   ]
  },
  {
   "cell_type": "code",
   "execution_count": null,
   "metadata": {
    "collapsed": true,
    "deletable": true,
    "editable": true
   },
   "outputs": [],
   "source": []
  },
  {
   "cell_type": "markdown",
   "metadata": {
    "deletable": true,
    "editable": true
   },
   "source": [
    "---\n",
    "\n",
    "## Questão 03\n",
    "\n",
    "O Método da Interpolação Polinomial consiste em encontrar um polinômio de ordem até $N$ que passe por todos os $N+1$ pontos conhecidos.\n",
    "\n",
    "Dados cinco pontos conhecidos de uma função $f(x)$, encontre os coeficientes do seu polinômio interpolante.\n",
    "\n",
    "### Entrada\n",
    "\n",
    "Cinco pares de valores de ponto flutuante $-10^4 \\leq x_i, y_i \\leq 10^4$.\n",
    "\n",
    "### Saída\n",
    "\n",
    "Os cinco coeficientes $a, b, c, d, e$ do polinômio interpolante $p(x)$ dado abaixo, com seis casas de precisão.\n",
    "\n",
    "$$ p(x) = ax^4 + bx^3 + cx^2 + dx + e $$\n",
    "\n",
    "#### Entrada de Teste\n",
    "0.0 0.0  \n",
    "1.0 1.0  \n",
    "2.0 4.0  \n",
    "3.0 9.0  \n",
    "4.0 16.0\n",
    "\n",
    "#### Saída de Teste\n",
    "0.000000  \n",
    "0.000000  \n",
    "1.000000  \n",
    "0.000000  \n",
    "0.000000"
   ]
  },
  {
   "cell_type": "code",
   "execution_count": null,
   "metadata": {
    "collapsed": true,
    "deletable": true,
    "editable": true
   },
   "outputs": [],
   "source": []
  },
  {
   "cell_type": "markdown",
   "metadata": {
    "deletable": true,
    "editable": true
   },
   "source": [
    "---\n",
    "\n",
    "## Questão 04\n",
    "\n",
    "Dados $N$ pontos $(x_i,y_i)$ conhecidos de uma função $f(x)$, encontre os valores da função $f(x)$ para os valores de $x$ fornecidos. Utilize o Método da Interpolação Polinomial.\n",
    "\n",
    "### Entrada\n",
    "\n",
    "A primeira linha da entrada consiste de um valor inteiro $2 \\leq N \\leq 100$, indicando o número de pontos conhecidos da função $f(x)$. As próximas $N$ linhas consistem de dois valores de ponto flutuante cada, indicando os valores $(x_i,y_i)$ do i-ésimo ponto. A próxima linha consiste de um valor inteiro $1 \\leq M \\leq 1000$, indicando a quantidade de valores de $x$ para os quais queremos saber o valor de $f(x)$.\n",
    "\n",
    "### Saída\n",
    "\n",
    "A saída deve conter $M$ linhas, cada uma com a seguinte mensagem: \"$f(x_a) = y_a$\". Onde $x_a$ é o valor de $x$ dado e $y_a$ é o valor encontrado para $f(x_a)$. Os valores de $x_a$ e $y_a$ devem ser impressos com 6 casas decimais de precisão.\n",
    "\n",
    "#### Entrada de Teste\n",
    "5  \n",
    "0.0 0.0  \n",
    "1.0 1.0  \n",
    "2.0 4.0  \n",
    "3.0 9.0  \n",
    "4.0 16.0  \n",
    "2  \n",
    "1.5  \n",
    "2.5\n",
    "\n",
    "#### Saída de Teste\n",
    "$\\texttt{f(1.500000) = 2.250000}$  \n",
    "$\\texttt{f(2.500000) = 5.250000}$"
   ]
  },
  {
   "cell_type": "code",
   "execution_count": null,
   "metadata": {
    "collapsed": true,
    "deletable": true,
    "editable": true
   },
   "outputs": [],
   "source": []
  },
  {
   "cell_type": "markdown",
   "metadata": {
    "deletable": true,
    "editable": true
   },
   "source": [
    "---\n",
    "\n",
    "## Questão 05\n",
    "\n",
    "O Método dos Mínimos Quadrados (MMQ) consiste em ajustar uma curva a esses pontos de forma a minimizar o Erro Quadrático (EQ), ou seja, minimizar a soma dos quadrados das distâncias entre a curva e os pontos.\n",
    "\n",
    "Encontre os coeficientes $A$ e $B$ ao ajustar uma reta a um conjunto de $N$ pontos $(x,y)$, utilizando o MMQ.\n",
    "\n",
    "### Entrada\n",
    "\n",
    "A primeira linha da entrada consiste de um valor inteiro $2 \\leq N \\leq 1000$, indicando o número de pontos conhecidos da função $f(x)$. As próximas $N$ linhas consistem de dois valores de ponto flutuante cada, indicando os valores $(x_i,y_i)$ do i-ésimo ponto.\n",
    "\n",
    "### Saída\n",
    "\n",
    "A saída deve conter a seguinte mensagem: \"$Y = A * X + B$\". Onde $A$ e $B$ são os coeficientes encontrados, impressos com seis casa decimais de precisão.\n",
    "\n",
    "#### Entrada de Teste\n",
    "5  \n",
    "0.0 0.0  \n",
    "1.0 3.0  \n",
    "2.0 2.0  \n",
    "3.0 5.0  \n",
    "4.0 4.0\n",
    "\n",
    "#### Saída de Teste\n",
    "$\\texttt{Y = 1.000000 * X + 0.800000}$"
   ]
  },
  {
   "cell_type": "code",
   "execution_count": null,
   "metadata": {
    "collapsed": true,
    "deletable": true,
    "editable": true
   },
   "outputs": [],
   "source": []
  },
  {
   "cell_type": "markdown",
   "metadata": {
    "deletable": true,
    "editable": true
   },
   "source": [
    "---\n",
    "\n",
    "## Questão 06\n",
    "\n",
    "Utilizando o MMQ, encontre os coeficientes $A$, $B$ e $C$ ao ajustar uma parábola a um conjunto de $N$ pontos $(x,y)$.\n",
    "\n",
    "### Entrada\n",
    "\n",
    "A primeira linha da entrada consiste de um valor inteiro $3 \\leq N \\leq 1000$, indicando o número de pontos conhecidos da função $f(x)$. As próximas $N$ linhas consistem de dois valores de ponto flutuante cada, indicando os valores $(x_i,y_i)$ do i-ésimo ponto.\n",
    "\n",
    "### Saída\n",
    "\n",
    "A saída deve conter a seguinte mensagem: \"$Y = A * X$^$2 + B * X + C$\". Onde $A$, $B$ e C são os coeficientes encontrados, impressos com seis casa decimais de precisão.\n",
    "\n",
    "#### Entrada de Teste\n",
    "5  \n",
    "0.0 0.0  \n",
    "1.0 3.0  \n",
    "2.0 2.0  \n",
    "3.0 5.0  \n",
    "4.0 4.0\n",
    "\n",
    "#### Saída de Teste\n",
    "$\\texttt{Y = -0.285714 * X^2 + 2.142857 * X + 0.228571}$"
   ]
  },
  {
   "cell_type": "code",
   "execution_count": null,
   "metadata": {
    "collapsed": true,
    "deletable": true,
    "editable": true
   },
   "outputs": [],
   "source": []
  },
  {
   "cell_type": "markdown",
   "metadata": {
    "deletable": true,
    "editable": true
   },
   "source": [
    "---\n",
    "\n",
    "## Questão 07\n",
    "\n",
    "Encontre o EQ mínimo ao ajustar uma reta a um conjunto de $N$ pontos $(x,y)$, utilizando o MMQ.\n",
    "\n",
    "### Entrada\n",
    "\n",
    "A primeira linha da entrada consiste de um valor inteiro $2 \\leq N \\leq 100$, indicando o número de pontos conhecidos da função $f(x)$. As próximas $N$ linhas consistem de dois valores de ponto flutuante cada, indicando os valores $(x_i,y_i)$ do i-ésimo ponto.\n",
    "\n",
    "### Saída\n",
    "\n",
    "Um único valor de ponto flutuante com seis casas decimais de precisão, indicando o EQ mínimo para a aproximação.\n",
    "\n",
    "#### Entrada de Teste\n",
    "5  \n",
    "0.0 0.0  \n",
    "1.0 3.0  \n",
    "2.0 2.0  \n",
    "3.0 5.0  \n",
    "4.0 4.0\n",
    "\n",
    "#### Saída de Teste\n",
    "4.800000"
   ]
  },
  {
   "cell_type": "code",
   "execution_count": null,
   "metadata": {
    "collapsed": true,
    "deletable": true,
    "editable": true
   },
   "outputs": [],
   "source": []
  },
  {
   "cell_type": "markdown",
   "metadata": {
    "deletable": true,
    "editable": true
   },
   "source": [
    "---\n",
    "\n",
    "## Questão 08\n",
    "\n",
    "Utilize o MMQ para encontrar a função que melhor se ajusta a um conjunto de $N$ pontos $(x,y)$, ou seja, que possua o menor EQ. As opções de funções são:\n",
    "\n",
    "$$\n",
    "\\begin{cases}\n",
    "f(x) = C_0 + C_1x^3 \\\\\n",
    "g(x) = C_0 + C_1sin(x) \\\\\n",
    "h(x) = C_0 + C_1e^x\n",
    "\\end{cases}\n",
    "$$\n",
    "\n",
    "### Entrada\n",
    "\n",
    "A primeira linha da entrada consiste de um valor inteiro $3 \\leq N \\leq 1000$, indicando o número de pontos conhecidos da função $f(x)$. As próximas $N$ linhas consistem de dois valores de ponto flutuante cada, indicando os valores $(x_i,y_i)$ do i-ésimo ponto.\n",
    "\n",
    "### Saída\n",
    "\n",
    "A saída deve conter três linhas. A primeira linha deve conter a mensagem \"$EQ(FUNCAO) = ERRO$\", onde $FUNCAO$ deve ser $f$, $g$ ou $h$, indicando a função de menor EQ e $ERRO$ deve ser o valor do EQ mínimo encontrado. As segunda e terceira linhas devem conter os valores de $C_0$ e $C_1$, conforme mostrado na saída de teste. Todos os valores devem ter seis casas decimais de precisão.\n",
    "\n",
    "#### Entrada de Teste\n",
    "5  \n",
    "0.0 0.0  \n",
    "1.0 3.0  \n",
    "2.0 2.0  \n",
    "3.0 5.0  \n",
    "4.0 4.0\n",
    "\n",
    "#### Saída de Teste\n",
    "$\\texttt{EQ(f) = 8.952249}$  \n",
    "$\\texttt{C0 = 1.900346}$  \n",
    "$\\texttt{C1 = 0.044983}$"
   ]
  },
  {
   "cell_type": "code",
   "execution_count": null,
   "metadata": {
    "collapsed": true,
    "deletable": true,
    "editable": true
   },
   "outputs": [],
   "source": []
  }
 ],
 "metadata": {
  "kernelspec": {
   "display_name": "Python 3",
   "language": "python",
   "name": "python3"
  },
  "language_info": {
   "codemirror_mode": {
    "name": "ipython",
    "version": 3
   },
   "file_extension": ".py",
   "mimetype": "text/x-python",
   "name": "python",
   "nbconvert_exporter": "python",
   "pygments_lexer": "ipython3",
   "version": "3.6.0"
  }
 },
 "nbformat": 4,
 "nbformat_minor": 2
}
